{
  "nbformat": 4,
  "nbformat_minor": 0,
  "metadata": {
    "colab": {
      "provenance": [],
      "authorship_tag": "ABX9TyOBgewm33FkOmBfenj0sF0j",
      "include_colab_link": true
    },
    "kernelspec": {
      "name": "python3",
      "display_name": "Python 3"
    },
    "language_info": {
      "name": "python"
    }
  },
  "cells": [
    {
      "cell_type": "markdown",
      "metadata": {
        "id": "view-in-github",
        "colab_type": "text"
      },
      "source": [
        "<a href=\"https://colab.research.google.com/github/sarahayek98/Detection-of-Alzheimer-using-3-ML/blob/main/KNN1.ipynb\" target=\"_parent\"><img src=\"https://colab.research.google.com/assets/colab-badge.svg\" alt=\"Open In Colab\"/></a>"
      ]
    },
    {
      "cell_type": "markdown",
      "source": [
        "Import packages"
      ],
      "metadata": {
        "id": "ol0rSOJs34Zu"
      }
    },
    {
      "cell_type": "code",
      "execution_count": null,
      "metadata": {
        "colab": {
          "base_uri": "https://localhost:8080/"
        },
        "id": "3hdQouZd6IYu",
        "outputId": "36a51a22-b2d2-49cd-9d5d-391ab79a27e4"
      },
      "outputs": [
        {
          "output_type": "stream",
          "name": "stdout",
          "text": [
            "Mounted at /content/drive\n"
          ]
        }
      ],
      "source": [
        "from google.colab import drive\n",
        "drive.mount('/content/drive')\n",
        "\n",
        "\n",
        "import os\n",
        "import numpy as np\n",
        "from sklearn.model_selection import train_test_split\n",
        "from sklearn.neighbors import KNeighborsClassifier\n",
        "from sklearn.metrics import accuracy_score\n",
        "from sklearn.preprocessing import LabelEncoder\n",
        "from sklearn.preprocessing import StandardScaler\n",
        "from skimage.io import imread\n",
        "from skimage.transform import resize"
      ]
    },
    {
      "cell_type": "markdown",
      "source": [
        "Mount Google Drive to access uploaded files"
      ],
      "metadata": {
        "id": "78F3BflJ3t2-"
      }
    },
    {
      "cell_type": "code",
      "source": [
        "# Set the path to your dataset\n",
        "path_to_dataset = '/content/drive/MyDrive/Alzheimer Dataset'"
      ],
      "metadata": {
        "id": "DSyd8WRZ7x1k"
      },
      "execution_count": null,
      "outputs": []
    },
    {
      "cell_type": "markdown",
      "source": [
        "Efficient Dataset Loading and Preprocessing Function"
      ],
      "metadata": {
        "id": "7f9UY-rL2xiO"
      }
    },
    {
      "cell_type": "code",
      "source": [
        "# Function to load and preprocess the dataset\n",
        "def load_and_preprocess_dataset(folder):\n",
        "    data = []\n",
        "    labels = []\n",
        "\n",
        "    for class_folder in os.listdir(os.path.join(path_to_dataset, folder)):\n",
        "        class_path = os.path.join(path_to_dataset, folder, class_folder)\n",
        "\n",
        "        for image_file in os.listdir(class_path):\n",
        "            image_path = os.path.join(class_path, image_file)\n",
        "            image = imread(image_path, as_gray=True)\n",
        "            image = resize(image, (100, 100))  # Adjust the size as needed\n",
        "            flattened_image = image.flatten()\n",
        "\n",
        "            data.append(flattened_image)\n",
        "            labels.append(class_folder)\n",
        "\n",
        "    return np.array(data), np.array(labels)"
      ],
      "metadata": {
        "id": "z5Rm5Gx_8K2J"
      },
      "execution_count": null,
      "outputs": []
    },
    {
      "cell_type": "code",
      "source": [
        "# Load and preprocess the training dataset\n",
        "train_data, train_labels = load_and_preprocess_dataset('train')\n"
      ],
      "metadata": {
        "id": "2WgRpFoGHXX-"
      },
      "execution_count": null,
      "outputs": []
    },
    {
      "cell_type": "code",
      "source": [
        "# Load and preprocess the testing dataset\n",
        "test_data, test_labels = load_and_preprocess_dataset('test')"
      ],
      "metadata": {
        "id": "opxFJfxeZtU3"
      },
      "execution_count": null,
      "outputs": []
    },
    {
      "cell_type": "code",
      "source": [
        "# Encode labels\n",
        "label_encoder = LabelEncoder()\n",
        "train_labels_encoded = label_encoder.fit_transform(train_labels)\n",
        "test_labels_encoded = label_encoder.transform(test_labels)\n"
      ],
      "metadata": {
        "id": "1uEtQuDMaYgT"
      },
      "execution_count": null,
      "outputs": []
    },
    {
      "cell_type": "code",
      "source": [
        "# Normalize pixel values\n",
        "scaler = StandardScaler()\n",
        "train_data_normalized = scaler.fit_transform(train_data)\n",
        "test_data_normalized = scaler.transform(test_data)\n"
      ],
      "metadata": {
        "id": "p6tNRKoJseVj"
      },
      "execution_count": null,
      "outputs": []
    },
    {
      "cell_type": "code",
      "source": [
        "# Split the data into training and testing sets\n",
        "X_train, X_val, y_train, y_val = train_test_split(\n",
        "    train_data_normalized, train_labels_encoded, test_size=0.2, random_state=42\n",
        ")\n"
      ],
      "metadata": {
        "id": "7_9imfogvX8B"
      },
      "execution_count": null,
      "outputs": []
    },
    {
      "cell_type": "code",
      "source": [
        "# Train the KNN model\n",
        "knn_model = KNeighborsClassifier(n_neighbors=5)  # You can experiment with different values of k\n",
        "knn_model.fit(X_train, y_train)\n"
      ],
      "metadata": {
        "colab": {
          "base_uri": "https://localhost:8080/",
          "height": 75
        },
        "id": "2X0Hwe6dvX93",
        "outputId": "28819a21-69ee-4294-f276-2918bbb82647"
      },
      "execution_count": null,
      "outputs": [
        {
          "output_type": "execute_result",
          "data": {
            "text/plain": [
              "KNeighborsClassifier()"
            ],
            "text/html": [
              "<style>#sk-container-id-1 {color: black;background-color: white;}#sk-container-id-1 pre{padding: 0;}#sk-container-id-1 div.sk-toggleable {background-color: white;}#sk-container-id-1 label.sk-toggleable__label {cursor: pointer;display: block;width: 100%;margin-bottom: 0;padding: 0.3em;box-sizing: border-box;text-align: center;}#sk-container-id-1 label.sk-toggleable__label-arrow:before {content: \"▸\";float: left;margin-right: 0.25em;color: #696969;}#sk-container-id-1 label.sk-toggleable__label-arrow:hover:before {color: black;}#sk-container-id-1 div.sk-estimator:hover label.sk-toggleable__label-arrow:before {color: black;}#sk-container-id-1 div.sk-toggleable__content {max-height: 0;max-width: 0;overflow: hidden;text-align: left;background-color: #f0f8ff;}#sk-container-id-1 div.sk-toggleable__content pre {margin: 0.2em;color: black;border-radius: 0.25em;background-color: #f0f8ff;}#sk-container-id-1 input.sk-toggleable__control:checked~div.sk-toggleable__content {max-height: 200px;max-width: 100%;overflow: auto;}#sk-container-id-1 input.sk-toggleable__control:checked~label.sk-toggleable__label-arrow:before {content: \"▾\";}#sk-container-id-1 div.sk-estimator input.sk-toggleable__control:checked~label.sk-toggleable__label {background-color: #d4ebff;}#sk-container-id-1 div.sk-label input.sk-toggleable__control:checked~label.sk-toggleable__label {background-color: #d4ebff;}#sk-container-id-1 input.sk-hidden--visually {border: 0;clip: rect(1px 1px 1px 1px);clip: rect(1px, 1px, 1px, 1px);height: 1px;margin: -1px;overflow: hidden;padding: 0;position: absolute;width: 1px;}#sk-container-id-1 div.sk-estimator {font-family: monospace;background-color: #f0f8ff;border: 1px dotted black;border-radius: 0.25em;box-sizing: border-box;margin-bottom: 0.5em;}#sk-container-id-1 div.sk-estimator:hover {background-color: #d4ebff;}#sk-container-id-1 div.sk-parallel-item::after {content: \"\";width: 100%;border-bottom: 1px solid gray;flex-grow: 1;}#sk-container-id-1 div.sk-label:hover label.sk-toggleable__label {background-color: #d4ebff;}#sk-container-id-1 div.sk-serial::before {content: \"\";position: absolute;border-left: 1px solid gray;box-sizing: border-box;top: 0;bottom: 0;left: 50%;z-index: 0;}#sk-container-id-1 div.sk-serial {display: flex;flex-direction: column;align-items: center;background-color: white;padding-right: 0.2em;padding-left: 0.2em;position: relative;}#sk-container-id-1 div.sk-item {position: relative;z-index: 1;}#sk-container-id-1 div.sk-parallel {display: flex;align-items: stretch;justify-content: center;background-color: white;position: relative;}#sk-container-id-1 div.sk-item::before, #sk-container-id-1 div.sk-parallel-item::before {content: \"\";position: absolute;border-left: 1px solid gray;box-sizing: border-box;top: 0;bottom: 0;left: 50%;z-index: -1;}#sk-container-id-1 div.sk-parallel-item {display: flex;flex-direction: column;z-index: 1;position: relative;background-color: white;}#sk-container-id-1 div.sk-parallel-item:first-child::after {align-self: flex-end;width: 50%;}#sk-container-id-1 div.sk-parallel-item:last-child::after {align-self: flex-start;width: 50%;}#sk-container-id-1 div.sk-parallel-item:only-child::after {width: 0;}#sk-container-id-1 div.sk-dashed-wrapped {border: 1px dashed gray;margin: 0 0.4em 0.5em 0.4em;box-sizing: border-box;padding-bottom: 0.4em;background-color: white;}#sk-container-id-1 div.sk-label label {font-family: monospace;font-weight: bold;display: inline-block;line-height: 1.2em;}#sk-container-id-1 div.sk-label-container {text-align: center;}#sk-container-id-1 div.sk-container {/* jupyter's `normalize.less` sets `[hidden] { display: none; }` but bootstrap.min.css set `[hidden] { display: none !important; }` so we also need the `!important` here to be able to override the default hidden behavior on the sphinx rendered scikit-learn.org. See: https://github.com/scikit-learn/scikit-learn/issues/21755 */display: inline-block !important;position: relative;}#sk-container-id-1 div.sk-text-repr-fallback {display: none;}</style><div id=\"sk-container-id-1\" class=\"sk-top-container\"><div class=\"sk-text-repr-fallback\"><pre>KNeighborsClassifier()</pre><b>In a Jupyter environment, please rerun this cell to show the HTML representation or trust the notebook. <br />On GitHub, the HTML representation is unable to render, please try loading this page with nbviewer.org.</b></div><div class=\"sk-container\" hidden><div class=\"sk-item\"><div class=\"sk-estimator sk-toggleable\"><input class=\"sk-toggleable__control sk-hidden--visually\" id=\"sk-estimator-id-1\" type=\"checkbox\" checked><label for=\"sk-estimator-id-1\" class=\"sk-toggleable__label sk-toggleable__label-arrow\">KNeighborsClassifier</label><div class=\"sk-toggleable__content\"><pre>KNeighborsClassifier()</pre></div></div></div></div></div>"
            ]
          },
          "metadata": {},
          "execution_count": 9
        }
      ]
    },
    {
      "cell_type": "markdown",
      "source": [
        "Evaluating Model Performance on Validation Set\n",
        "\n",
        "\n",
        "\n",
        "\n"
      ],
      "metadata": {
        "id": "Ulv7B8RL4f0G"
      }
    },
    {
      "cell_type": "code",
      "source": [
        "# Predict on the validation set\n",
        "y_pred = knn_model.predict(X_val)\n",
        "\n",
        "# Evaluate the model\n",
        "accuracy = accuracy_score(y_val, y_pred)\n",
        "print(f\"Validation Accuracy: {accuracy}\")"
      ],
      "metadata": {
        "colab": {
          "base_uri": "https://localhost:8080/"
        },
        "id": "uk0-LaoJvYBu",
        "outputId": "13eb4516-204c-46ff-cfa5-53f93bbfe693"
      },
      "execution_count": null,
      "outputs": [
        {
          "output_type": "stream",
          "name": "stdout",
          "text": [
            "Validation Accuracy: 0.9834146341463414\n"
          ]
        }
      ]
    },
    {
      "cell_type": "markdown",
      "source": [
        "Assessing Model Performance on Test Set"
      ],
      "metadata": {
        "id": "2YErDL_K5PY5"
      }
    },
    {
      "cell_type": "code",
      "source": [
        "# Predict on the test set\n",
        "test_predictions = knn_model.predict(test_data_normalized)\n",
        "\n",
        "# Evaluate the model on the test set\n",
        "test_accuracy = accuracy_score(test_labels_encoded, test_predictions)\n",
        "print(f\"Test Accuracy: {test_accuracy}\")"
      ],
      "metadata": {
        "colab": {
          "base_uri": "https://localhost:8080/"
        },
        "id": "qzHE6c2WvYEp",
        "outputId": "87ac136f-bde8-471d-e7ae-ecc0b21077f8"
      },
      "execution_count": null,
      "outputs": [
        {
          "output_type": "stream",
          "name": "stdout",
          "text": [
            "Test Accuracy: 0.6997654417513682\n"
          ]
        }
      ]
    },
    {
      "cell_type": "markdown",
      "source": [
        "Optimizing KNN Hyperparameters with GridSearchCV"
      ],
      "metadata": {
        "id": "mdgr3af45c7e"
      }
    },
    {
      "cell_type": "code",
      "source": [
        "from sklearn.model_selection import GridSearchCV\n",
        "from sklearn.metrics import confusion_matrix, classification_report\n",
        "\n",
        "# Hyperparameter tuning for KNN using GridSearchCV\n",
        "param_grid = {'n_neighbors': [3, 5, 7, 9]}\n",
        "grid_search = GridSearchCV(KNeighborsClassifier(), param_grid, cv=5)\n",
        "grid_search.fit(X_train, y_train)\n",
        "\n",
        "# Get the best hyperparameters\n",
        "best_k = grid_search.best_params_['n_neighbors']"
      ],
      "metadata": {
        "id": "FaArGxfFvzFt"
      },
      "execution_count": null,
      "outputs": []
    },
    {
      "cell_type": "markdown",
      "source": [
        "Training KNN Model with Optimized Hyperparameters and Assessing Performance"
      ],
      "metadata": {
        "id": "9UhqHaO25z5w"
      }
    },
    {
      "cell_type": "code",
      "source": [
        "# Train the KNN model with the best hyperparameters\n",
        "knn_model = KNeighborsClassifier(n_neighbors=best_k)\n",
        "knn_model.fit(X_train, y_train)\n",
        "\n",
        "# Predict on the validation set\n",
        "y_pred = knn_model.predict(X_val)\n",
        "\n",
        "# Evaluate the model with the best hyperparameters\n",
        "accuracy = accuracy_score(y_val, y_pred)\n",
        "print(f\"Validation Accuracy with Best k ({best_k}): {accuracy}\")\n",
        "\n",
        "# Predict on the test set\n",
        "test_predictions = knn_model.predict(test_data_normalized)\n",
        "\n",
        "# Evaluate the model on the test set\n",
        "test_accuracy = accuracy_score(test_labels_encoded, test_predictions)\n",
        "print(f\"Test Accuracy: {test_accuracy}\")"
      ],
      "metadata": {
        "colab": {
          "base_uri": "https://localhost:8080/"
        },
        "id": "NimHDaQzvzHo",
        "outputId": "3cb564d1-b000-4a79-ffe6-5eb5eb3263e0"
      },
      "execution_count": null,
      "outputs": [
        {
          "output_type": "stream",
          "name": "stdout",
          "text": [
            "Validation Accuracy with Best k (3): 0.9902439024390244\n",
            "Test Accuracy: 0.7028928850664582\n"
          ]
        }
      ]
    },
    {
      "cell_type": "markdown",
      "source": [
        "\n",
        "Analyzing Model Performance with Confusion Matrix and Classification Report"
      ],
      "metadata": {
        "id": "isLjchgS9TOq"
      }
    },
    {
      "cell_type": "code",
      "source": [
        "# Display confusion matrix and classification report\n",
        "conf_matrix = confusion_matrix(test_labels_encoded, test_predictions)\n",
        "class_report = classification_report(test_labels_encoded, test_predictions, target_names=label_encoder.classes_)\n",
        "\n",
        "print(\"Confusion Matrix:\")\n",
        "print(conf_matrix)\n",
        "\n",
        "print(\"\\nClassification Report:\")\n",
        "print(class_report)"
      ],
      "metadata": {
        "colab": {
          "base_uri": "https://localhost:8080/"
        },
        "id": "LWKsVtwOvzLN",
        "outputId": "4e32b604-ebe0-4277-f7d9-d28950db5030"
      },
      "execution_count": null,
      "outputs": [
        {
          "output_type": "stream",
          "name": "stdout",
          "text": [
            "Confusion Matrix:\n",
            "[[120   0  18  41]\n",
            " [  3   5   4   0]\n",
            " [ 75   2 447 116]\n",
            " [ 71   0  50 327]]\n",
            "\n",
            "Classification Report:\n",
            "                  precision    recall  f1-score   support\n",
            "\n",
            "    MildDemented       0.45      0.67      0.54       179\n",
            "ModerateDemented       0.71      0.42      0.53        12\n",
            "     NonDemented       0.86      0.70      0.77       640\n",
            "VeryMildDemented       0.68      0.73      0.70       448\n",
            "\n",
            "        accuracy                           0.70      1279\n",
            "       macro avg       0.67      0.63      0.63      1279\n",
            "    weighted avg       0.74      0.70      0.71      1279\n",
            "\n"
          ]
        }
      ]
    },
    {
      "cell_type": "markdown",
      "source": [],
      "metadata": {
        "id": "cVfhEgxA2g1J"
      }
    },
    {
      "cell_type": "code",
      "source": [
        "from sklearn.metrics import confusion_matrix\n",
        "import seaborn as sns\n",
        "import matplotlib.pyplot as plt\n",
        "\n",
        "# Assuming y_test and y_pred are the true labels and predicted labels, respectively\n",
        "conf_matrix_knn = confusion_matrix(test_labels_encoded, test_predictions)\n",
        "\n",
        "# Calculate True Positive (TP), True Negative (TN), False Positive (FP), False Negative (FN)\n",
        "TP = conf_matrix_knn[1, 1]\n",
        "TN = conf_matrix_knn[0, 0]\n",
        "FP = conf_matrix_knn[0, 1]\n",
        "FN = conf_matrix_knn[1, 0]\n",
        "\n",
        "# Calculate sensitivity (recall)\n",
        "sensitivity_knn = TP / (TP + FN)\n",
        "\n",
        "# Calculate specificity\n",
        "specificity_knn = TN / (TN + FP)\n",
        "\n",
        "# Display the results\n",
        "print(f'Sensitivity (Recall): {sensitivity_knn:.2f}')\n",
        "print(f'Specificity: {specificity_knn:.2f}')\n",
        "\n",
        "# Plot the confusion matrix using seaborn\n",
        "plt.figure(figsize=(8, 6))\n",
        "sns.heatmap(conf_matrix_knn, annot=True, fmt='d', cmap='Blues', cbar=False,\n",
        "            xticklabels=label_encoder.classes_, yticklabels=label_encoder.classes_)\n",
        "plt.title('KNN Confusion Matrix')\n",
        "plt.xlabel('Predicted Label')\n",
        "plt.ylabel('True Label')\n",
        "plt.show()\n"
      ],
      "metadata": {
        "colab": {
          "base_uri": "https://localhost:8080/",
          "height": 599
        },
        "id": "Wuj4swx-vzM8",
        "outputId": "7dedae89-bd78-4f52-f68f-87e85efc588c"
      },
      "execution_count": null,
      "outputs": [
        {
          "output_type": "stream",
          "name": "stdout",
          "text": [
            "Sensitivity (Recall): 0.62\n",
            "Specificity: 1.00\n"
          ]
        },
        {
          "output_type": "display_data",
          "data": {
            "text/plain": [
              "<Figure size 800x600 with 1 Axes>"
            ],
            "image/png": "[encoded data removed]"
          },
          "metadata": {}
        }
      ]
    },
    {
      "cell_type": "code",
      "source": [
        "import numpy as np\n",
        "import os\n",
        "import cv2\n",
        "from sklearn.neighbors import KNeighborsClassifier\n",
        "from sklearn.metrics import roc_curve, auc\n",
        "from sklearn.preprocessing import label_binarize\n",
        "from sklearn.model_selection import train_test_split\n",
        "import matplotlib.pyplot as plt\n",
        "from itertools import cycle\n",
        "\n",
        "# Step 2: Load and preprocess data (same as before)\n",
        "data_dir = '/content/drive/MyDrive/Alzheimer Dataset/train'\n",
        "class_names = ['NonDemented', 'ModerateDemented', 'VeryMildDemented', 'MildDemented']\n",
        "class_labels = [0, 1, 2, 3]\n",
        "\n",
        "images = []\n",
        "labels = []\n",
        "\n",
        "for class_name, class_label in zip(class_names, class_labels):\n",
        "    class_dir = os.path.join(data_dir, class_name)\n",
        "    for img_name in os.listdir(class_dir):\n",
        "        img_path = os.path.join(class_dir, img_name)\n",
        "        img = cv2.imread(img_path)\n",
        "        if img is not None:\n",
        "            img = cv2.resize(img, (128, 128))\n",
        "            images.append(img)\n",
        "            labels.append(class_label)\n",
        "\n",
        "images = np.array(images)\n",
        "labels = np.array(labels)\n",
        "\n",
        "n_samples, h, w, c = images.shape\n",
        "images = images.reshape((n_samples, h * w * c))\n",
        "\n",
        "X_train, X_test, y_train, y_test = train_test_split(images, labels, test_size=0.3, random_state=42)\n",
        "\n",
        "# Step 3: Train the KNN model\n",
        "knn = KNeighborsClassifier(n_neighbors=5)  # You can adjust the number of neighbors\n",
        "knn.fit(X_train, y_train)\n",
        "\n",
        "# Step 4: Predict probabilities\n",
        "y_score = knn.predict_proba(X_test)\n",
        "\n",
        "# Step 5: Compute ROC curve and ROC area for each class\n",
        "n_classes = len(class_names)\n",
        "y_test_binarized = label_binarize(y_test, classes=range(n_classes))\n",
        "fpr = dict()\n",
        "tpr = dict()\n",
        "roc_auc = dict()\n",
        "\n",
        "for i in range(n_classes):\n",
        "    fpr[i], tpr[i], _ = roc_curve(y_test_binarized[:, i], y_score[:, i])\n",
        "    roc_auc[i] = auc(fpr[i], tpr[i])\n",
        "\n",
        "fpr[\"micro\"], tpr[\"micro\"], _ = roc_curve(y_test_binarized.ravel(), y_score.ravel())\n",
        "roc_auc[\"micro\"] = auc(fpr[\"micro\"], tpr[\"micro\"])\n",
        "\n",
        "# Step 6: Plot ROC curve (same as before)\n",
        "plt.figure(figsize=(10, 8))\n",
        "colors = cycle(['aqua', 'darkorange', 'cornflowerblue', 'lime'])\n",
        "\n",
        "for i, color in zip(range(n_classes), colors):\n",
        "    plt.plot(fpr[i], tpr[i], color=color, lw=2,\n",
        "             label='ROC curve of class {0} (area = {1:0.2f})'\n",
        "                   ''.format(class_names[i], roc_auc[i]))\n",
        "\n",
        "plt.plot(fpr[\"micro\"], tpr[\"micro\"],\n",
        "         label='micro-average ROC curve (area = {0:0.2f})'\n",
        "               ''.format(roc_auc[\"micro\"]),\n",
        "         color='deeppink', linestyle=':', linewidth=4)\n",
        "\n",
        "plt.plot([0, 1], [0, 1], 'k--', lw=2)\n",
        "plt.xlim([0.0, 1.0])\n",
        "plt.ylim([0.0, 1.05])\n",
        "plt.xlabel('False Positive Rate')\n",
        "plt.ylabel('True Positive Rate')\n",
        "plt.title('Receiver Operating Characteristic (ROC) Curve')\n",
        "plt.legend(loc=\"lower right\")\n",
        "plt.show()"
      ],
      "metadata": {
        "colab": {
          "base_uri": "https://localhost:8080/",
          "height": 718
        },
        "id": "qSmXksyGJmwg",
        "outputId": "5f7ad806-0f80-4a6d-dbcc-d2976bfe52fc"
      },
      "execution_count": null,
      "outputs": [
        {
          "output_type": "display_data",
          "data": {
            "text/plain": [
              "<Figure size 1000x800 with 1 Axes>"
            ],
            "image/png": "[encoded data removed]"
          },
          "metadata": {}
        }
      ]
    },
    {
      "cell_type": "code",
      "source": [
        "from skimage.io import imread\n",
        "from skimage.transform import resize\n",
        "\n",
        "# Load and preprocess the new image\n",
        "new_image_path = '/content/drive/MyDrive/example data/example data/moderateDem0.jpg'\n",
        "new_image = imread(new_image_path, as_gray=True)\n",
        "new_image_resized = resize(new_image, (100, 100)).flatten()  # Resize and flatten the image\n",
        "\n",
        "# Normalize the pixel values using the same scaler used during training\n",
        "new_image_normalized = scaler.transform([new_image_resized])\n",
        "\n",
        "# Predict the class using the trained KNN model\n",
        "new_image_prediction = knn_model.predict(new_image_normalized)\n",
        "\n",
        "# Decode the predicted label\n",
        "predicted_class = label_encoder.classes_[new_image_prediction[0]]\n",
        "\n",
        "print(f'The predicted class for the new image is: {predicted_class}')\n"
      ],
      "metadata": {
        "colab": {
          "base_uri": "https://localhost:8080/"
        },
        "id": "zchbyBXvvzQg",
        "outputId": "40d056e9-a0aa-423c-e109-7f7dc28b28ff"
      },
      "execution_count": null,
      "outputs": [
        {
          "output_type": "stream",
          "name": "stdout",
          "text": [
            "The predicted class for the new image is: ModerateDemented\n"
          ]
        }
      ]
    },
    {
      "cell_type": "code",
      "source": [
        "from skimage.io import imread\n",
        "from skimage.transform import resize\n",
        "\n",
        "# Load and preprocess the new image\n",
        "new_image_path = '/content/drive/MyDrive/example data/example data/MRI.jpg'\n",
        "new_image = imread(new_image_path, as_gray=True)\n",
        "new_image_resized = resize(new_image, (100, 100)).flatten()  # Resize and flatten the image\n",
        "\n",
        "# Normalize the pixel values using the same scaler used during training\n",
        "new_image_normalized = scaler.transform([new_image_resized])\n",
        "\n",
        "# Predict the class using the trained KNN model\n",
        "new_image_prediction = knn_model.predict(new_image_normalized)\n",
        "\n",
        "# Decode the predicted label\n",
        "predicted_class = label_encoder.classes_[new_image_prediction[0]]\n",
        "\n",
        "print(f'The predicted class for the new image is: {predicted_class}')\n"
      ],
      "metadata": {
        "colab": {
          "base_uri": "https://localhost:8080/"
        },
        "id": "pK5iGSk6vzSR",
        "outputId": "f5a5c840-fd04-46ef-b0fa-e9ac5e337611"
      },
      "execution_count": null,
      "outputs": [
        {
          "output_type": "stream",
          "name": "stdout",
          "text": [
            "The predicted class for the new image is: NonDemented\n"
          ]
        }
      ]
    },
    {
      "cell_type": "markdown",
      "source": [
        "Class Prediction for New Image Using Trained Model"
      ],
      "metadata": {
        "id": "NrI8kGm06KoO"
      }
    },
    {
      "cell_type": "code",
      "source": [
        "from skimage.io import imread\n",
        "from skimage.transform import resize\n",
        "\n",
        "# Load and preprocess the new image\n",
        "new_image_path = '/content/drive/MyDrive/Alzheimer Dataset/train/NonDemented/nonDem2.jpg'\n",
        "new_image = imread(new_image_path, as_gray=True)\n",
        "new_image_resized = resize(new_image, (100, 100)).flatten()  # Resize and flatten the image\n",
        "\n",
        "# Normalize the pixel values using the same scaler used during training\n",
        "new_image_normalized = scaler.transform([new_image_resized])\n",
        "\n",
        "# Predict the class using the trained KNN model\n",
        "new_image_prediction = knn_model.predict(new_image_normalized)\n",
        "\n",
        "# Decode the predicted label\n",
        "predicted_class = label_encoder.classes_[new_image_prediction[0]]\n",
        "\n",
        "print(f'The predicted class for the new image is: {predicted_class}')\n"
      ],
      "metadata": {
        "colab": {
          "base_uri": "https://localhost:8080/"
        },
        "id": "-DzB-oeBwD24",
        "outputId": "ecda33f2-f06d-4d9c-a9bc-15fb41e0584a"
      },
      "execution_count": null,
      "outputs": [
        {
          "output_type": "stream",
          "name": "stdout",
          "text": [
            "The predicted class for the new image is: NonDemented\n"
          ]
        }
      ]
    },
    {
      "cell_type": "markdown",
      "source": [
        "Classifying New Image Using Trained KNN Model"
      ],
      "metadata": {
        "id": "M4Tvgqzx6XIJ"
      }
    },
    {
      "cell_type": "code",
      "source": [
        "from skimage.io import imread\n",
        "from skimage.transform import resize\n",
        "\n",
        "# Load and preprocess the new image\n",
        "new_image_path = '/content/drive/MyDrive/example data/example data/nd.png'\n",
        "new_image = imread(new_image_path, as_gray=True)\n",
        "new_image_resized = resize(new_image, (100, 100)).flatten()  # Resize and flatten the image\n",
        "\n",
        "# Normalize the pixel values using the same scaler used during training\n",
        "new_image_normalized = scaler.transform([new_image_resized])\n",
        "\n",
        "# Predict the class using the trained KNN model\n",
        "new_image_prediction = knn_model.predict(new_image_normalized)\n",
        "\n",
        "# Decode the predicted label\n",
        "predicted_class = label_encoder.classes_[new_image_prediction[0]]\n",
        "\n",
        "print(f'The predicted class for the new image is: {predicted_class}')\n"
      ],
      "metadata": {
        "colab": {
          "base_uri": "https://localhost:8080/"
        },
        "id": "QrS4Uxh4wD4f",
        "outputId": "1cdc44c7-b954-4810-a83f-5d657b62341e"
      },
      "execution_count": null,
      "outputs": [
        {
          "output_type": "stream",
          "name": "stdout",
          "text": [
            "The predicted class for the new image is: NonDemented\n"
          ]
        }
      ]
    },
    {
      "cell_type": "markdown",
      "source": [
        "Data Loading and Preprocessing Function"
      ],
      "metadata": {
        "id": "THUK_Tve7HCH"
      }
    },
    {
      "cell_type": "markdown",
      "source": [],
      "metadata": {
        "id": "nk452uh17DKz"
      }
    },
    {
      "cell_type": "code",
      "source": [
        "from sklearn.model_selection import train_test_split, cross_val_score, StratifiedKFold\n",
        "from sklearn.neighbors import KNeighborsClassifier\n",
        "from sklearn.metrics import accuracy_score, confusion_matrix\n",
        "from sklearn.preprocessing import LabelEncoder, StandardScaler\n",
        "from skimage.io import imread\n",
        "from skimage.transform import resize\n",
        "import matplotlib.pyplot as plt\n",
        "import seaborn as sns\n",
        "import numpy as np\n",
        "import os\n",
        "\n",
        "# Function to load and preprocess the dataset\n",
        "def load_and_preprocess_dataset(folder):\n",
        "    data = []\n",
        "    labels = []\n",
        "\n",
        "    for class_folder in os.listdir(os.path.join(path_to_dataset, folder)):\n",
        "        class_path = os.path.join(path_to_dataset, folder, class_folder)\n",
        "\n",
        "        for image_file in os.listdir(class_path):\n",
        "            image_path = os.path.join(class_path, image_file)\n",
        "            image = imread(image_path, as_gray=True)\n",
        "            image = resize(image, (100, 100))\n",
        "            flattened_image = image.flatten()\n",
        "\n",
        "            data.append(flattened_image)\n",
        "            labels.append(class_folder)\n",
        "\n",
        "    return np.array(data), np.array(labels)\n",
        "\n",
        "# Load and preprocess the dataset\n",
        "path_to_dataset = '/content/drive/MyDrive/Alzheimer Dataset'\n",
        "train_data, train_labels = load_and_preprocess_dataset('train')\n",
        "test_data, test_labels = load_and_preprocess_dataset('test')\n",
        "\n",
        "# Encode labels\n",
        "label_encoder = LabelEncoder()\n",
        "train_labels_encoded = label_encoder.fit_transform(train_labels)\n",
        "test_labels_encoded = label_encoder.transform(test_labels)\n",
        "\n",
        "# Normalize pixel values\n",
        "scaler = StandardScaler()\n",
        "train_data_normalized = scaler.fit_transform(train_data)\n",
        "test_data_normalized = scaler.transform(test_data)\n",
        "\n",
        "# Split the data into training and validation sets\n",
        "X_train, X_val, y_train, y_val = train_test_split(\n",
        "    train_data_normalized, train_labels_encoded, test_size=0.2, random_state=42\n",
        ")\n",
        "\n",
        "# Apply data augmentation to the training set\n",
        "augmented_data = []\n",
        "augmented_labels = []\n",
        "\n",
        "for i in range(len(X_train)):\n",
        "    augmented_data.append(X_train[i])\n",
        "    augmented_labels.append(y_train[i])\n",
        "\n",
        "    # Add rotated versions of the images\n",
        "    rotated_image = np.rot90(X_train[i].reshape(100, 100)).flatten()\n",
        "    augmented_data.append(rotated_image)\n",
        "    augmented_labels.append(y_train[i])\n",
        "\n",
        "# Create a KNN model\n",
        "knn_model = KNeighborsClassifier(n_neighbors=5)\n",
        "\n",
        "# Fit the KNN model on the training data\n",
        "knn_model.fit(np.array(augmented_data), np.array(augmented_labels))\n",
        "\n",
        "# Use StratifiedKFold for cross-validation\n",
        "stratified_kfold = StratifiedKFold(n_splits=5, shuffle=True, random_state=42)\n",
        "\n",
        "# Perform cross-validation\n",
        "cv_scores = cross_val_score(knn_model, train_data_normalized, train_labels_encoded, cv=stratified_kfold)\n",
        "\n",
        "# Print the cross-validation scores\n",
        "print(\"Cross-Validation Scores:\", cv_scores)\n",
        "print(\"Mean Accuracy:\", np.mean(cv_scores))\n",
        "print(\"Standard Deviation of Accuracy:\", np.std(cv_scores))\n",
        "\n",
        "# Predict on the test set\n",
        "test_predictions = knn_model.predict(test_data_normalized)\n",
        "\n",
        "# Evaluate the model on the test set\n",
        "test_accuracy = accuracy_score(test_labels_encoded, test_predictions)\n",
        "print(f\"Test Accuracy: {test_accuracy}\")\n",
        "\n",
        "# Compare training and test accuracies\n",
        "training_accuracy = np.mean(cv_scores)\n",
        "print(f\"Training Accuracy: {training_accuracy}\")\n",
        "\n",
        "# Check for overfitting by comparing training and test accuracies\n",
        "overfitting_indicator = training_accuracy - test_accuracy\n",
        "if overfitting_indicator < 0:\n",
        "    print(\"The model is potentially overfitting.\")\n",
        "else:\n",
        "    print(\"The model is generalizing well to the test set.\")\n"
      ],
      "metadata": {
        "colab": {
          "base_uri": "https://localhost:8080/"
        },
        "id": "TEuGUg8HwH4L",
        "outputId": "73339820-c497-458d-a9e2-b6a63149ad41"
      },
      "execution_count": null,
      "outputs": [
        {
          "output_type": "stream",
          "name": "stdout",
          "text": [
            "Cross-Validation Scores: [0.97756098 0.97851562 0.98535156 0.97851562 0.97167969]\n",
            "Mean Accuracy: 0.9783246951219512\n",
            "Standard Deviation of Accuracy: 0.004340257305147864\n",
            "Test Accuracy: 0.6997654417513682\n",
            "Training Accuracy: 0.9783246951219512\n",
            "The model is generalizing well to the test set.\n"
          ]
        }
      ]
    },
    {
      "cell_type": "markdown",
      "source": [
        "Image Classification Using Trained KNN Model"
      ],
      "metadata": {
        "id": "EuwVWi3X731n"
      }
    },
    {
      "cell_type": "code",
      "source": [
        "from skimage.io import imread\n",
        "from skimage.transform import resize\n",
        "\n",
        "# Load and preprocess the new image\n",
        "new_image_path = '/content/drive/MyDrive/example data/example data/nd.png'\n",
        "new_image = imread(new_image_path, as_gray=True)\n",
        "new_image_resized = resize(new_image, (100, 100)).flatten()  # Resize and flatten the image\n",
        "\n",
        "# Normalize the pixel values using the same scaler used during training\n",
        "new_image_normalized = scaler.transform([new_image_resized])\n",
        "\n",
        "# Predict the class using the trained KNN model\n",
        "new_image_prediction = knn_model.predict(new_image_normalized)\n",
        "\n",
        "# Decode the predicted label\n",
        "predicted_class = label_encoder.classes_[new_image_prediction[0]]\n",
        "\n",
        "print(f'The predicted class for the new image is: {predicted_class}')\n"
      ],
      "metadata": {
        "colab": {
          "base_uri": "https://localhost:8080/"
        },
        "id": "IcXHGM4vwH6B",
        "outputId": "52161864-0d5a-40a8-c319-30d372bac8f3"
      },
      "execution_count": null,
      "outputs": [
        {
          "output_type": "stream",
          "name": "stdout",
          "text": [
            "The predicted class for the new image is: MildDemented\n"
          ]
        }
      ]
    },
    {
      "cell_type": "markdown",
      "source": [
        "Image Classification with Trained KNN Model"
      ],
      "metadata": {
        "id": "Sn-qqUlA8GpS"
      }
    },
    {
      "cell_type": "code",
      "source": [
        "from skimage.io import imread\n",
        "from skimage.transform import resize\n",
        "\n",
        "# Load and preprocess the new image\n",
        "new_image_path = '/content/drive/MyDrive/example data/example data/vmd.png'\n",
        "new_image = imread(new_image_path, as_gray=True)\n",
        "new_image_resized = resize(new_image, (100, 100)).flatten()  # Resize and flatten the image\n",
        "\n",
        "# Normalize the pixel values using the same scaler used during training\n",
        "new_image_normalized = scaler.transform([new_image_resized])\n",
        "\n",
        "# Predict the class using the trained KNN model\n",
        "new_image_prediction = knn_model.predict(new_image_normalized)\n",
        "\n",
        "# Decode the predicted label\n",
        "predicted_class_index = new_image_prediction[0]\n",
        "predicted_class = label_encoder.classes_[predicted_class_index]\n",
        "\n",
        "print(f'The predicted class for the new image is: {predicted_class}')\n",
        "\n"
      ],
      "metadata": {
        "colab": {
          "base_uri": "https://localhost:8080/"
        },
        "id": "T3_yfeT2wH9f",
        "outputId": "322857fc-0e23-4f89-b193-86bc05dbe9c3"
      },
      "execution_count": null,
      "outputs": [
        {
          "output_type": "stream",
          "name": "stdout",
          "text": [
            "The predicted class for the new image is: NonDemented\n"
          ]
        }
      ]
    },
    {
      "cell_type": "markdown",
      "source": [
        "\n",
        "Enhancing KNN Performance with GridSearchCV and Data Augmentation"
      ],
      "metadata": {
        "id": "MGoLjXiO8ew2"
      }
    },
    {
      "cell_type": "code",
      "source": [
        "from sklearn.model_selection import GridSearchCV\n",
        "from sklearn.metrics import accuracy_score\n",
        "from skimage.transform import rotate\n",
        "\n",
        "# Function to perform data augmentation\n",
        "def augment_data(data, labels):\n",
        "    augmented_data = []\n",
        "    augmented_labels = []\n",
        "\n",
        "    for i in range(len(data)):\n",
        "        augmented_data.append(data[i])\n",
        "        augmented_labels.append(labels[i])\n",
        "\n",
        "        # Add rotated versions of the images\n",
        "        rotated_image = rotate(data[i].reshape(100, 100), angle=45, mode='reflect').flatten()\n",
        "        augmented_data.append(rotated_image)\n",
        "        augmented_labels.append(labels[i])\n",
        "\n",
        "    return np.array(augmented_data), np.array(augmented_labels)\n",
        "\n",
        "# Hyperparameter tuning for KNN\n",
        "param_grid = {'n_neighbors': [3, 5, 7, 9, 11]}\n",
        "grid_search = GridSearchCV(KNeighborsClassifier(), param_grid, cv=stratified_kfold)\n",
        "grid_search.fit(train_data_normalized, train_labels_encoded)\n",
        "\n",
        "# Get the best hyperparameters\n",
        "best_k = grid_search.best_params_['n_neighbors']\n",
        "\n",
        "# Perform data augmentation\n",
        "augmented_train_data, augmented_train_labels = augment_data(X_train, y_train)\n",
        "\n",
        "# Train the KNN model with the best hyperparameters\n",
        "knn_model = KNeighborsClassifier(n_neighbors=best_k)\n",
        "knn_model.fit(augmented_train_data, augmented_train_labels)\n",
        "\n",
        "# Predict on the validation set\n",
        "y_pred = knn_model.predict(X_val)\n",
        "\n",
        "# Evaluate the model\n",
        "validation_accuracy = accuracy_score(y_val, y_pred)\n",
        "print(f\"Validation Accuracy after Hyperparameter Tuning and Data Augmentation: {validation_accuracy}\")\n",
        "\n",
        "# Predict on the test set\n",
        "test_predictions = knn_model.predict(test_data_normalized)\n",
        "\n",
        "# Evaluate the model on the test set\n",
        "test_accuracy = accuracy_score(test_labels_encoded, test_predictions)\n",
        "print(f\"Test Accuracy after Hyperparameter Tuning and Data Augmentation: {test_accuracy}\")\n"
      ],
      "metadata": {
        "colab": {
          "base_uri": "https://localhost:8080/"
        },
        "id": "-I_pla-bwIAb",
        "outputId": "d1fef84f-2ece-425f-f967-8f1c33a2bfb8"
      },
      "execution_count": null,
      "outputs": [
        {
          "output_type": "stream",
          "name": "stdout",
          "text": [
            "Validation Accuracy after Hyperparameter Tuning and Data Augmentation: 0.9902439024390244\n",
            "Test Accuracy after Hyperparameter Tuning and Data Augmentation: 0.7028928850664582\n"
          ]
        }
      ]
    },
    {
      "cell_type": "code",
      "source": [
        "from skimage.io import imread\n",
        "from skimage.transform import resize\n",
        "\n",
        "# Load and preprocess the new image\n",
        "new_image_path = '/content/drive/MyDrive/example data/example data/vmd.png'\n",
        "new_image = imread(new_image_path, as_gray=True)\n",
        "new_image_resized = resize(new_image, (100, 100)).flatten()  # Resize and flatten the image\n",
        "\n",
        "# Normalize the pixel values using the same scaler used during training\n",
        "new_image_normalized = scaler.transform([new_image_resized])\n",
        "\n",
        "# Predict the class using the trained KNN model\n",
        "new_image_prediction = knn_model.predict(new_image_normalized)\n",
        "\n",
        "# Decode the predicted label\n",
        "predicted_class = label_encoder.classes_[new_image_prediction[0]]\n",
        "\n",
        "print(f'The predicted class for the new image is: {predicted_class}')\n"
      ],
      "metadata": {
        "colab": {
          "base_uri": "https://localhost:8080/"
        },
        "id": "MGKhcdB2wUAr",
        "outputId": "426001a1-2cd0-4161-c401-b7c039d75ba6"
      },
      "execution_count": null,
      "outputs": [
        {
          "output_type": "stream",
          "name": "stdout",
          "text": [
            "The predicted class for the new image is: VeryMildDemented\n"
          ]
        }
      ]
    },
    {
      "cell_type": "code",
      "source": [
        "from skimage.io import imread\n",
        "from skimage.transform import resize\n",
        "\n",
        "# Load and preprocess the new image\n",
        "new_image_path = '/content/drive/MyDrive/example data/example data/md.png'\n",
        "new_image = imread(new_image_path, as_gray=True)\n",
        "new_image_resized = resize(new_image, (100, 100)).flatten()  # Resize and flatten the image\n",
        "\n",
        "# Normalize the pixel values using the same scaler used during training\n",
        "new_image_normalized = scaler.transform([new_image_resized])\n",
        "\n",
        "# Predict the class using the trained KNN model\n",
        "new_image_prediction = knn_model.predict(new_image_normalized)\n",
        "\n",
        "# Decode the predicted label\n",
        "predicted_class = label_encoder.classes_[new_image_prediction[0]]\n",
        "\n",
        "print(f'The predicted class for the new image is: {predicted_class}')\n"
      ],
      "metadata": {
        "colab": {
          "base_uri": "https://localhost:8080/"
        },
        "id": "N9ofZij5wUCZ",
        "outputId": "67b6d227-f249-4395-fe58-7e40b18a712e"
      },
      "execution_count": null,
      "outputs": [
        {
          "output_type": "stream",
          "name": "stdout",
          "text": [
            "The predicted class for the new image is: VeryMildDemented\n"
          ]
        }
      ]
    },
    {
      "cell_type": "code",
      "source": [
        "import pickle\n",
        "\n",
        "# Save the trained model\n",
        "with open('knn_model.pkl', 'wb') as file:\n",
        "    pickle.dump(knn_model, file)\n",
        "\n",
        "# Save the label encoder\n",
        "with open('label_encoder.pkl', 'wb') as file:\n",
        "    pickle.dump(label_encoder, file)\n",
        "\n",
        "# Save the scaler\n",
        "with open('scaler.pkl', 'wb') as file:\n",
        "    pickle.dump(scaler, file)\n",
        "\n",
        "print(\"Model, label encoder, and scaler saved successfully.\")"
      ],
      "metadata": {
        "id": "spvhKIXfwUGM",
        "colab": {
          "base_uri": "https://localhost:8080/"
        },
        "outputId": "032bedf8-0f63-4197-89fc-e923d6c960aa"
      },
      "execution_count": null,
      "outputs": [
        {
          "output_type": "stream",
          "name": "stdout",
          "text": [
            "Model, label encoder, and scaler saved successfully.\n"
          ]
        }
      ]
    },
    {
      "cell_type": "code",
      "source": [
        "import os\n",
        "import zipfile\n",
        "\n",
        "def create_zip_file():\n",
        "    # Create a list of files to download\n",
        "    files_to_download = ['knn_model.pkl', 'label_encoder.pkl', 'scaler.pkl']\n",
        "\n",
        "    # Create a zip file with the specified files\n",
        "    zip_filename = 'saved_model.zip'\n",
        "    with zipfile.ZipFile(zip_filename, 'w') as zip_file:\n",
        "        for file in files_to_download:\n",
        "            if os.path.exists(file):\n",
        "                zip_file.write(file)\n",
        "            else:\n",
        "                print(f'File {file} not found.')\n",
        "\n",
        "    # Serve the zip file for download\n",
        "    with open(zip_filename, 'rb') as zip_file:\n",
        "        zip_data = zip_file.read()\n",
        "\n",
        "    # Set the appropriate headers for file download\n",
        "    headers = {\n",
        "        'Content-Disposition': f'attachment; filename=\"{zip_filename}\"',\n",
        "        'Content-Type': 'application/zip',\n",
        "        'Content-Length': len(zip_data)\n",
        "    }\n",
        "\n",
        "    # Return the zip file data for download\n",
        "    return zip_data, headers"
      ],
      "metadata": {
        "id": "1Q1mHh27vzWL"
      },
      "execution_count": null,
      "outputs": []
    },
    {
      "cell_type": "code",
      "source": [
        "from joblib import dump\n",
        "\n",
        "# Save the trained KNN model\n",
        "dump(knn_model, 'knn_model.joblib')\n"
      ],
      "metadata": {
        "colab": {
          "base_uri": "https://localhost:8080/"
        },
        "id": "mYiZn2bBJq5_",
        "outputId": "d53e5d9e-3d16-44fc-ee9b-4db906332fa1"
      },
      "execution_count": null,
      "outputs": [
        {
          "output_type": "execute_result",
          "data": {
            "text/plain": [
              "['knn_model.joblib']"
            ]
          },
          "metadata": {},
          "execution_count": 33
        }
      ]
    },
    {
      "cell_type": "code",
      "source": [
        "from google.colab import files\n",
        "\n",
        "# Download the saved model file\n",
        "files.download('knn_model.joblib')\n"
      ],
      "metadata": {
        "colab": {
          "base_uri": "https://localhost:8080/",
          "height": 34
        },
        "id": "YN8t6k-WJ0pL",
        "outputId": "64e68552-7353-4dc8-aec3-50d06fc157b2"
      },
      "execution_count": null,
      "outputs": [
        {
          "output_type": "display_data",
          "data": {
            "text/plain": [
              "<IPython.core.display.Javascript object>"
            ],
            "application/javascript": [
              "\n",
              "    async function download(id, filename, size) {\n",
              "      if (!google.colab.kernel.accessAllowed) {\n",
              "        return;\n",
              "      }\n",
              "      const div = document.createElement('div');\n",
              "      const label = document.createElement('label');\n",
              "      label.textContent = `Downloading \"${filename}\": `;\n",
              "      div.appendChild(label);\n",
              "      const progress = document.createElement('progress');\n",
              "      progress.max = size;\n",
              "      div.appendChild(progress);\n",
              "      document.body.appendChild(div);\n",
              "\n",
              "      const buffers = [];\n",
              "      let downloaded = 0;\n",
              "\n",
              "      const channel = await google.colab.kernel.comms.open(id);\n",
              "      // Send a message to notify the kernel that we're ready.\n",
              "      channel.send({})\n",
              "\n",
              "      for await (const message of channel.messages) {\n",
              "        // Send a message to notify the kernel that we're ready.\n",
              "        channel.send({})\n",
              "        if (message.buffers) {\n",
              "          for (const buffer of message.buffers) {\n",
              "            buffers.push(buffer);\n",
              "            downloaded += buffer.byteLength;\n",
              "            progress.value = downloaded;\n",
              "          }\n",
              "        }\n",
              "      }\n",
              "      const blob = new Blob(buffers, {type: 'application/binary'});\n",
              "      const a = document.createElement('a');\n",
              "      a.href = window.URL.createObjectURL(blob);\n",
              "      a.download = filename;\n",
              "      div.appendChild(a);\n",
              "      a.click();\n",
              "      div.remove();\n",
              "    }\n",
              "  "
            ]
          },
          "metadata": {}
        },
        {
          "output_type": "display_data",
          "data": {
            "text/plain": [
              "<IPython.core.display.Javascript object>"
            ],
            "application/javascript": [
              "download(\"download_682b456f-7dc5-4058-be17-739966feee24\", \"knn_model.joblib\", 655426356)"
            ]
          },
          "metadata": {}
        }
      ]
    },
    {
      "cell_type": "code",
      "source": [
        "from joblib import dump\n",
        "\n",
        "# Save the label encoder\n",
        "dump(label_encoder, 'label_encoder.joblib')\n"
      ],
      "metadata": {
        "colab": {
          "base_uri": "https://localhost:8080/"
        },
        "id": "zamY_6ywJ02j",
        "outputId": "610f66b0-78a9-4b6d-ddac-a0e031f42e63"
      },
      "execution_count": 35,
      "outputs": [
        {
          "output_type": "execute_result",
          "data": {
            "text/plain": [
              "['label_encoder.joblib']"
            ]
          },
          "metadata": {},
          "execution_count": 35
        }
      ]
    },
    {
      "cell_type": "code",
      "source": [
        "from google.colab import files\n",
        "\n",
        "# Download the saved label encoder file\n",
        "files.download('label_encoder.joblib')\n"
      ],
      "metadata": {
        "colab": {
          "base_uri": "https://localhost:8080/",
          "height": 17
        },
        "id": "IE2n36mRJq_A",
        "outputId": "b14d6108-e080-43c7-d546-c95c1b85a6e9"
      },
      "execution_count": 36,
      "outputs": [
        {
          "output_type": "display_data",
          "data": {
            "text/plain": [
              "<IPython.core.display.Javascript object>"
            ],
            "application/javascript": [
              "\n",
              "    async function download(id, filename, size) {\n",
              "      if (!google.colab.kernel.accessAllowed) {\n",
              "        return;\n",
              "      }\n",
              "      const div = document.createElement('div');\n",
              "      const label = document.createElement('label');\n",
              "      label.textContent = `Downloading \"${filename}\": `;\n",
              "      div.appendChild(label);\n",
              "      const progress = document.createElement('progress');\n",
              "      progress.max = size;\n",
              "      div.appendChild(progress);\n",
              "      document.body.appendChild(div);\n",
              "\n",
              "      const buffers = [];\n",
              "      let downloaded = 0;\n",
              "\n",
              "      const channel = await google.colab.kernel.comms.open(id);\n",
              "      // Send a message to notify the kernel that we're ready.\n",
              "      channel.send({})\n",
              "\n",
              "      for await (const message of channel.messages) {\n",
              "        // Send a message to notify the kernel that we're ready.\n",
              "        channel.send({})\n",
              "        if (message.buffers) {\n",
              "          for (const buffer of message.buffers) {\n",
              "            buffers.push(buffer);\n",
              "            downloaded += buffer.byteLength;\n",
              "            progress.value = downloaded;\n",
              "          }\n",
              "        }\n",
              "      }\n",
              "      const blob = new Blob(buffers, {type: 'application/binary'});\n",
              "      const a = document.createElement('a');\n",
              "      a.href = window.URL.createObjectURL(blob);\n",
              "      a.download = filename;\n",
              "      div.appendChild(a);\n",
              "      a.click();\n",
              "      div.remove();\n",
              "    }\n",
              "  "
            ]
          },
          "metadata": {}
        },
        {
          "output_type": "display_data",
          "data": {
            "text/plain": [
              "<IPython.core.display.Javascript object>"
            ],
            "application/javascript": [
              "download(\"download_d141995f-e4e9-401a-b887-1ebcb641a89b\", \"label_encoder.joblib\", 583)"
            ]
          },
          "metadata": {}
        }
      ]
    }
  ]
}